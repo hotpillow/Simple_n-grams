{
 "cells": [
  {
   "cell_type": "code",
   "execution_count": 1,
   "id": "ee814a5c-017a-442e-8a35-5e0859449e7a",
   "metadata": {
    "tags": []
   },
   "outputs": [],
   "source": [
    "import nltk\n",
    "from nltk.tokenize import RegexpTokenizer\n",
    "from nltk.util import ngrams"
   ]
  },
  {
   "cell_type": "code",
   "execution_count": 2,
   "id": "6f93c7cb",
   "metadata": {},
   "outputs": [],
   "source": [
    "f = open('5 papers.txt','rt')\n",
    "corpus = f.read()"
   ]
  },
  {
   "cell_type": "code",
   "execution_count": 3,
   "id": "f6130169",
   "metadata": {},
   "outputs": [],
   "source": [
    "# regex gets rid of the puncuation\n",
    "tokenizer = RegexpTokenizer(r'\\w+')\n",
    "tokens = tokenizer.tokenize(corpus)\n",
    "\n",
    "# creates the n-grams using nltk's ngrams()\n",
    "bigram = list(ngrams(tokens, 2))\n",
    "trigram = list(ngrams(tokens, 3))\n",
    "fourgram = list(ngrams(tokens, 4))"
   ]
  },
  {
   "cell_type": "code",
   "execution_count": 4,
   "id": "bd6331bd-81f5-4458-aca9-92180086b1bf",
   "metadata": {},
   "outputs": [],
   "source": [
    "import random\n",
    "\n",
    "def generate_sentence(model, num_words):\n",
    "    words = random.choice(model)\n",
    "    # choose a random word that isn't lower\n",
    "    while words[0].islower():\n",
    "                words = random.choice(model)\n",
    "    sentence = list(words)\n",
    "    \n",
    "    # generate num_words sentences\n",
    "    while len(sentence) < num_words:\n",
    "        # take the last word of the n-gram (word[:-1]) and then\n",
    "        # compare it to the first word of the next n-gram (words[1:])\n",
    "        next_words = [word for word in model if word[:-1] == words[1:]]\n",
    "        \n",
    "        # if are no more words that follow the n-grams...\n",
    "        if not next_words:\n",
    "            words = random.choice(model)\n",
    "            while words[0].islower():\n",
    "                words = random.choice(model)\n",
    "            sentence += list(words)\n",
    "        # else, add another word and ensure the sentence is 10 words\n",
    "        else:\n",
    "            words = random.choice(next_words)\n",
    "            sentence.append(words[-1])\n",
    "\n",
    "    return ' '.join(sentence)"
   ]
  },
  {
   "cell_type": "code",
   "execution_count": 5,
   "id": "1c40ac3a-eb9a-4bc8-a877-a337d249b88b",
   "metadata": {
    "scrolled": true
   },
   "outputs": [
    {
     "name": "stdout",
     "output_type": "stream",
     "text": [
      "Bigram  1 : Digital finance for assessing the blockchain will be a significant\n",
      "Bigram  2 : Financing and NFT CNFT are 2018 contracts on financial intermediaries\n",
      "Bigram  3 : The work for which includes all peer review can be\n",
      "Bigram  4 : 2020 according to maintain the private blockchain infrastructure is highly\n",
      "Bigram  5 : In addition the one is not dealing with the journals\n",
      "\n",
      "\n",
      "Trigram  1 : Data Format Specification This has important guiding value for the\n",
      "Trigram  2 : For the securities industry the blockchain such as roulettes card\n",
      "Trigram  3 : They must comply with time constraints Gambling are programs implementing\n",
      "Trigram  4 : For each category divided by year highlighting that the program\n",
      "Trigram  5 : The blockchain system is becoming a trend especially for degree\n",
      "\n",
      "\n",
      "Fourgram  1 : For traditional financial institutions and Internet companies to realize financing\n",
      "Fourgram  2 : ELTC contracts over time almost overlap giving proof of the\n",
      "Fourgram  3 : CA ecosystem C Zero Knowledge Proof For a long time\n",
      "Fourgram  4 : At present blockchain technology is still in the stage of\n",
      "Fourgram  5 : F1000Research https f1000research com developers an open peer review publishing\n"
     ]
    }
   ],
   "source": [
    "for i in range(5):\n",
    "    print('Bigram ', i+1, ':', generate_sentence(bigram, 10))\n",
    "   \n",
    "print('\\n')\n",
    "\n",
    "for i in range(5):\n",
    "    print('Trigram ', i+1, ':', generate_sentence(trigram, 10))\n",
    "\n",
    "print('\\n')\n",
    "\n",
    "for i in range(5):\n",
    "    print('Fourgram ', i+1, ':', generate_sentence(fourgram, 10))"
   ]
  },
  {
   "cell_type": "code",
   "execution_count": 6,
   "id": "e6102119",
   "metadata": {
    "scrolled": false
   },
   "outputs": [
    {
     "data": {
      "image/png": "[encoded data removed]",
      "text/plain": [
       "<Figure size 800x600 with 1 Axes>"
      ]
     },
     "metadata": {},
     "output_type": "display_data"
    }
   ],
   "source": [
    "import numpy as np\n",
    "import matplotlib.pyplot as plt\n",
    "\n",
    "# compute the number of unique n-grams in each model\n",
    "num_unique_bigrams = len(set(bigram))\n",
    "num_unique_trigrams = len(set(trigram))\n",
    "num_unique_fourgrams = len(set(fourgram))\n",
    "\n",
    "# plot the results\n",
    "plt.figure(figsize=(8, 6))\n",
    "plt.bar(['Bigram', 'Trigram', 'Fourgram'], [num_unique_bigrams, num_unique_trigrams, num_unique_fourgrams])\n",
    "plt.title('Number of unique n-grams in each model')\n",
    "plt.ylabel('Unique n-grams')\n",
    "plt.show()"
   ]
  },
  {
   "cell_type": "code",
   "execution_count": null,
   "id": "313b7434",
   "metadata": {},
   "outputs": [],
   "source": []
  }
 ],
 "metadata": {
  "kernelspec": {
   "display_name": "Python 3 (ipykernel)",
   "language": "python",
   "name": "python3"
  },
  "language_info": {
   "codemirror_mode": {
    "name": "ipython",
    "version": 3
   },
   "file_extension": ".py",
   "mimetype": "text/x-python",
   "name": "python",
   "nbconvert_exporter": "python",
   "pygments_lexer": "ipython3",
   "version": "3.8.10"
  }
 },
 "nbformat": 4,
 "nbformat_minor": 5
}
